{
 "cells": [
  {
   "cell_type": "code",
   "execution_count": null,
   "id": "2c957c24-588c-4dc9-aadc-44725d361df6",
   "metadata": {},
   "outputs": [],
   "source": [
    "def add(n1, n2):\n",
    "    return n1 + n2\n",
    "def subtract(n1,n2):\n",
    "    return n1 - n2\n",
    "def multiply(n1,n2):\n",
    "    return n1*n2\n",
    "def divide(n1,n2):\n",
    "    return n1/n2\n",
    "\n",
    "operations={'+':add,\n",
    "           '-':subtract,\n",
    "           '*':multiply,\n",
    "           '/':divide}\n",
    "def calculator():\n",
    "    num1= int(input('Whats is the first number?: '))\n",
    "    calculating = True\n",
    "    while calculating:\n",
    "        for ops in operations:\n",
    "            print(ops)\n",
    "        operation= input('Choose an operation : ')\n",
    "        num2= int(input('whats another number: '))\n",
    "        result = operations[operation](num1,num2)\n",
    "        print(f'{num1} {operation} {num2} = {result}')\n",
    "        choice = input(f'Choose \"y\" to continue with previous  result {result} or else choose \"n\" to start again')\n",
    "        if choice =='y':\n",
    "            num1 = result\n",
    "        else:\n",
    "            calculating =False\n",
    "            print('\\n'*50)\n",
    "            calculator()\n",
    "\n",
    "calculator()\n",
    "\n",
    "    "
   ]
  },
  {
   "cell_type": "code",
   "execution_count": null,
   "id": "3c3c436e-cd34-4079-bc43-4ccdaeb71d2d",
   "metadata": {},
   "outputs": [],
   "source": []
  }
 ],
 "metadata": {
  "kernelspec": {
   "display_name": "Python 3 (ipykernel)",
   "language": "python",
   "name": "python3"
  },
  "language_info": {
   "codemirror_mode": {
    "name": "ipython",
    "version": 3
   },
   "file_extension": ".py",
   "mimetype": "text/x-python",
   "name": "python",
   "nbconvert_exporter": "python",
   "pygments_lexer": "ipython3",
   "version": "3.11.7"
  }
 },
 "nbformat": 4,
 "nbformat_minor": 5
}
